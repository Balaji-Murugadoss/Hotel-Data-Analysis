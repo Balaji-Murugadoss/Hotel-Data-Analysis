{
 "cells": [
  {
   "cell_type": "markdown",
   "metadata": {},
   "source": [
    "## <font color='red'>ITOM 6253 Assignment 4 Solution</font>\n"
   ]
  },
  {
   "cell_type": "markdown",
   "metadata": {},
   "source": [
    "<font color='blue'>**Q1:** Using pandas, import ***hotels.csv*** and show the number of observations and columns.</font>"
   ]
  },
  {
   "cell_type": "code",
   "execution_count": null,
   "metadata": {},
   "outputs": [],
   "source": [
    "import pandas as pd\n",
    "hotels = pd.read_csv(\"C:/Users/Tim/Google Drive/SMU/\"\n",
    "                     \"ITOM 6267 Data Mining MSBA/data/hotels.csv\")\n",
    "hotels.info()\n",
    "hotels.head(3)"
   ]
  },
  {
   "cell_type": "code",
   "execution_count": null,
   "metadata": {},
   "outputs": [],
   "source": [
    "# Convert numerics that we should treat as strings\n",
    "\n",
    "for v in [\"location_code\", \"hotel_code\"] :\n",
    "    hotels[v] = hotels[v].astype(str)\n",
    "hotels.info()"
   ]
  },
  {
   "cell_type": "markdown",
   "metadata": {},
   "source": [
    "<font color='blue'>**Q2:** Write a Python program to determine the number of hotel types and how many of each type.</font>"
   ]
  },
  {
   "cell_type": "code",
   "execution_count": null,
   "metadata": {},
   "outputs": [],
   "source": [
    "hotels.hotel_type.value_counts()"
   ]
  },
  {
   "cell_type": "markdown",
   "metadata": {},
   "source": [
    "<font color='blue'>**Q3:** Using a dataframe.method1().method2() syntax, count the number of missing values in each column.</font>"
   ]
  },
  {
   "cell_type": "code",
   "execution_count": null,
   "metadata": {},
   "outputs": [],
   "source": [
    "hotels.isnull().sum()"
   ]
  },
  {
   "cell_type": "markdown",
   "metadata": {},
   "source": [
    "<font color='blue'>**Q4:** For this assignment let's define a continuous variable as any numeric (integer and float) variable that has more than 10 distinct values in its distribution. Produce a table showing the mean, standard deviation, skewness and kurtosis of all the continuous variables.</font>"
   ]
  },
  {
   "cell_type": "markdown",
   "metadata": {},
   "source": [
    "The first step is to identify all the numeric variables."
   ]
  },
  {
   "cell_type": "code",
   "execution_count": null,
   "metadata": {},
   "outputs": [],
   "source": [
    "numeric = hotels.select_dtypes(include = ['int64', 'float64'])\n",
    "#numeric = hotels.select_dtypes(include = 'number')\n",
    "numeric.head()\n",
    "numeric.info()"
   ]
  },
  {
   "cell_type": "code",
   "execution_count": null,
   "metadata": {},
   "outputs": [],
   "source": [
    "stuff = numeric.agg(['nunique'])\n",
    "stuff.head()"
   ]
  },
  {
   "cell_type": "code",
   "execution_count": null,
   "metadata": {},
   "outputs": [],
   "source": [
    "continuous = []\n",
    "for v in stuff :\n",
    "    if stuff[v][0] > 10 :\n",
    "        continuous.append(v)\n",
    "        print(v, stuff[v][0])\n",
    "\n",
    "print()\n",
    "print(continuous)"
   ]
  },
  {
   "cell_type": "markdown",
   "metadata": {},
   "source": [
    "Next, we calculate the four moment statistics that interest us."
   ]
  },
  {
   "cell_type": "code",
   "execution_count": null,
   "metadata": {},
   "outputs": [],
   "source": [
    "hotels[continuous].agg(['mean', 'std', 'skew', 'kurtosis'])"
   ]
  },
  {
   "cell_type": "markdown",
   "metadata": {},
   "source": [
    "<font color='blue'>**Q5:** Find and replace all continuous variable outliers with missing values.</font>"
   ]
  },
  {
   "cell_type": "code",
   "execution_count": null,
   "metadata": {},
   "outputs": [],
   "source": [
    "import numpy as np\n",
    "\n",
    "for j in continuous :\n",
    "    upper_quartile = np.nanpercentile(hotels[j], 75)\n",
    "    lower_quartile = np.nanpercentile(hotels[j], 25)\n",
    "    iqr = upper_quartile - lower_quartile\n",
    "    \n",
    "    upper_whisker = upper_quartile + 1.5 * iqr\n",
    "    lower_whisker = lower_quartile - 1.5 * iqr\n",
    "    \n",
    "    hotels[j] = np.where((hotels[j] < lower_whisker) |\n",
    "                      (hotels[j] > upper_whisker), np.nan, hotels[j])\n",
    "    \n",
    "hotels.isnull().sum()"
   ]
  },
  {
   "cell_type": "markdown",
   "metadata": {},
   "source": [
    "<font color='blue'>**Q6:** Impute all continuous variable missing values with the means of those variables.</font>"
   ]
  },
  {
   "cell_type": "code",
   "execution_count": null,
   "metadata": {},
   "outputs": [],
   "source": [
    "for v in continuous:\n",
    "    hotels[v].fillna(value = hotels[v].mean(), inplace = True)\n",
    "    \n",
    "hotels.isnull().sum()\n"
   ]
  },
  {
   "cell_type": "markdown",
   "metadata": {},
   "source": [
    "Note that bubble_rating still has missing values because it only has five distinct values and should not be treated as a continuous numeric variable. It is not entirely categorical either but rather it is a discrete numeric variable where statistics such as mean have meaning."
   ]
  },
  {
   "cell_type": "markdown",
   "metadata": {},
   "source": [
    "<font color='blue'>**Q7:** How has the kurtosis changed for each of the variables that had outliers removed and then imputed?</font>"
   ]
  },
  {
   "cell_type": "code",
   "execution_count": null,
   "metadata": {},
   "outputs": [],
   "source": [
    "hotels[continuous].agg(['kurtosis'])"
   ]
  },
  {
   "cell_type": "markdown",
   "metadata": {},
   "source": [
    "All the kurtosis values are dramatically less than those before outlier removal."
   ]
  },
  {
   "cell_type": "code",
   "execution_count": null,
   "metadata": {},
   "outputs": [],
   "source": []
  }
 ],
 "metadata": {
  "kernelspec": {
   "display_name": "Python 3 (ipykernel)",
   "language": "python",
   "name": "python3"
  },
  "language_info": {
   "codemirror_mode": {
    "name": "ipython",
    "version": 3
   },
   "file_extension": ".py",
   "mimetype": "text/x-python",
   "name": "python",
   "nbconvert_exporter": "python",
   "pygments_lexer": "ipython3",
   "version": "3.9.17"
  }
 },
 "nbformat": 4,
 "nbformat_minor": 2
}
